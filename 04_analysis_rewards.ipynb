{
 "cells": [
  {
   "cell_type": "markdown",
   "metadata": {},
   "source": [
    "# Analysis of Individual Judgments and Reward Model Scores"
   ]
  },
  {
   "cell_type": "markdown",
   "metadata": {},
   "source": [
    "## Preparations"
   ]
  },
  {
   "cell_type": "code",
   "execution_count": 2,
   "metadata": {},
   "outputs": [],
   "source": [
    "import pandas as pd\n",
    "import matplotlib.pyplot as plt\n",
    "from scipy.stats import ttest_1samp, zscore\n",
    "import numpy as np"
   ]
  },
  {
   "cell_type": "markdown",
   "metadata": {},
   "source": [
    "## Load Data"
   ]
  },
  {
   "cell_type": "code",
   "execution_count": 3,
   "metadata": {},
   "outputs": [],
   "source": [
    "# read dataframes wiht reward model scores and our annotations\n",
    "summaries_reward_model = pd.read_csv(\"text_summaries_with_reward_scores.csv\")\n",
    "summaries_annotated = pd.read_excel(\"text_summaries_with_intuitive_judgments.xlsx\")"
   ]
  },
  {
   "cell_type": "code",
   "execution_count": 4,
   "metadata": {},
   "outputs": [
    {
     "data": {
      "text/html": [
       "<div>\n",
       "<style scoped>\n",
       "    .dataframe tbody tr th:only-of-type {\n",
       "        vertical-align: middle;\n",
       "    }\n",
       "\n",
       "    .dataframe tbody tr th {\n",
       "        vertical-align: top;\n",
       "    }\n",
       "\n",
       "    .dataframe thead th {\n",
       "        text-align: right;\n",
       "    }\n",
       "</style>\n",
       "<table border=\"1\" class=\"dataframe\">\n",
       "  <thead>\n",
       "    <tr style=\"text-align: right;\">\n",
       "      <th></th>\n",
       "      <th>Unnamed: 0.1</th>\n",
       "      <th>Unnamed: 0</th>\n",
       "      <th>prompt_id</th>\n",
       "      <th>text</th>\n",
       "      <th>Outputs</th>\n",
       "      <th>summaryOnly</th>\n",
       "      <th>independence</th>\n",
       "      <th>context</th>\n",
       "      <th>accuracy</th>\n",
       "      <th>completeness</th>\n",
       "      <th>grammar</th>\n",
       "      <th>readability</th>\n",
       "      <th>brevity</th>\n",
       "      <th>final_score</th>\n",
       "    </tr>\n",
       "  </thead>\n",
       "  <tbody>\n",
       "    <tr>\n",
       "      <th>0</th>\n",
       "      <td>0</td>\n",
       "      <td>0</td>\n",
       "      <td>415</td>\n",
       "      <td>SUBREDDIT: r/relationship_advice\\nTITLE: My [M...</td>\n",
       "      <td>SUBREDDIT: r/relationship_advice\\nTITLE: My [M...</td>\n",
       "      <td>I feel as though my girlfriend and I need to...</td>\n",
       "      <td>1.0</td>\n",
       "      <td>2.0</td>\n",
       "      <td>1.0</td>\n",
       "      <td>1.0</td>\n",
       "      <td>1.0</td>\n",
       "      <td>2.0</td>\n",
       "      <td>1.0</td>\n",
       "      <td>9.0</td>\n",
       "    </tr>\n",
       "    <tr>\n",
       "      <th>1</th>\n",
       "      <td>1</td>\n",
       "      <td>1</td>\n",
       "      <td>440</td>\n",
       "      <td>SUBREDDIT: r/AskReddit\\nTITLE: Reddit, how do ...</td>\n",
       "      <td>SUBREDDIT: r/AskReddit\\nTITLE: Reddit, how do ...</td>\n",
       "      <td>Teenagers wreck flowers, pour salt on cars, ...</td>\n",
       "      <td>1.0</td>\n",
       "      <td>1.0</td>\n",
       "      <td>2.0</td>\n",
       "      <td>1.0</td>\n",
       "      <td>1.0</td>\n",
       "      <td>2.0</td>\n",
       "      <td>1.0</td>\n",
       "      <td>9.0</td>\n",
       "    </tr>\n",
       "    <tr>\n",
       "      <th>2</th>\n",
       "      <td>2</td>\n",
       "      <td>2</td>\n",
       "      <td>466</td>\n",
       "      <td>SUBREDDIT: r/relationships\\nTITLE: My siblings...</td>\n",
       "      <td>SUBREDDIT: r/relationships\\nTITLE: My siblings...</td>\n",
       "      <td>I feel uncomfortable paying my siblings back...</td>\n",
       "      <td>1.0</td>\n",
       "      <td>1.0</td>\n",
       "      <td>1.0</td>\n",
       "      <td>1.0</td>\n",
       "      <td>1.0</td>\n",
       "      <td>1.0</td>\n",
       "      <td>1.0</td>\n",
       "      <td>7.0</td>\n",
       "    </tr>\n",
       "    <tr>\n",
       "      <th>3</th>\n",
       "      <td>3</td>\n",
       "      <td>3</td>\n",
       "      <td>571</td>\n",
       "      <td>SUBREDDIT: r/dogs\\nTITLE: [Help] Older dog has...</td>\n",
       "      <td>SUBREDDIT: r/dogs\\nTITLE: [Help] Older dog has...</td>\n",
       "      <td>Older dog has peripheral vestibular disease....</td>\n",
       "      <td>1.0</td>\n",
       "      <td>1.0</td>\n",
       "      <td>2.0</td>\n",
       "      <td>1.0</td>\n",
       "      <td>1.0</td>\n",
       "      <td>2.0</td>\n",
       "      <td>1.0</td>\n",
       "      <td>9.0</td>\n",
       "    </tr>\n",
       "    <tr>\n",
       "      <th>4</th>\n",
       "      <td>4</td>\n",
       "      <td>4</td>\n",
       "      <td>627</td>\n",
       "      <td>SUBREDDIT: r/relationship_advice\\nTITLE: I [20...</td>\n",
       "      <td>SUBREDDIT: r/relationship_advice\\nTITLE: I [20...</td>\n",
       "      <td>Girlfriend has been working all day and has ...</td>\n",
       "      <td>1.0</td>\n",
       "      <td>1.0</td>\n",
       "      <td>1.0</td>\n",
       "      <td>1.0</td>\n",
       "      <td>1.0</td>\n",
       "      <td>2.0</td>\n",
       "      <td>1.0</td>\n",
       "      <td>8.0</td>\n",
       "    </tr>\n",
       "    <tr>\n",
       "      <th>...</th>\n",
       "      <td>...</td>\n",
       "      <td>...</td>\n",
       "      <td>...</td>\n",
       "      <td>...</td>\n",
       "      <td>...</td>\n",
       "      <td>...</td>\n",
       "      <td>...</td>\n",
       "      <td>...</td>\n",
       "      <td>...</td>\n",
       "      <td>...</td>\n",
       "      <td>...</td>\n",
       "      <td>...</td>\n",
       "      <td>...</td>\n",
       "      <td>...</td>\n",
       "    </tr>\n",
       "    <tr>\n",
       "      <th>99</th>\n",
       "      <td>99</td>\n",
       "      <td>99</td>\n",
       "      <td>6054</td>\n",
       "      <td>SUBREDDIT: r/tifu\\nTITLE: TIFU by attempting t...</td>\n",
       "      <td>SUBREDDIT: r/tifu\\nTITLE: TIFU by attempting t...</td>\n",
       "      <td>I tried to make a toaster oven out of my hou...</td>\n",
       "      <td>1.0</td>\n",
       "      <td>0.0</td>\n",
       "      <td>0.0</td>\n",
       "      <td>0.0</td>\n",
       "      <td>1.0</td>\n",
       "      <td>1.0</td>\n",
       "      <td>0.0</td>\n",
       "      <td>3.0</td>\n",
       "    </tr>\n",
       "    <tr>\n",
       "      <th>100</th>\n",
       "      <td>100</td>\n",
       "      <td>100</td>\n",
       "      <td>6310</td>\n",
       "      <td>SUBREDDIT: r/relationships\\nTITLE: Me(21f) and...</td>\n",
       "      <td>SUBREDDIT: r/relationships\\nTITLE: Me(21f) and...</td>\n",
       "      <td>ex is buying condoms with me and getting mad...</td>\n",
       "      <td>0.0</td>\n",
       "      <td>1.0</td>\n",
       "      <td>0.0</td>\n",
       "      <td>0.0</td>\n",
       "      <td>0.0</td>\n",
       "      <td>0.5</td>\n",
       "      <td>0.0</td>\n",
       "      <td>1.5</td>\n",
       "    </tr>\n",
       "    <tr>\n",
       "      <th>101</th>\n",
       "      <td>101</td>\n",
       "      <td>101</td>\n",
       "      <td>6367</td>\n",
       "      <td>SUBREDDIT: r/offmychest\\nTITLE: someone stole ...</td>\n",
       "      <td>SUBREDDIT: r/offmychest\\nTITLE: someone stole ...</td>\n",
       "      <td>I was robbed and my car was wrecked while I ...</td>\n",
       "      <td>1.0</td>\n",
       "      <td>0.5</td>\n",
       "      <td>0.5</td>\n",
       "      <td>0.0</td>\n",
       "      <td>1.0</td>\n",
       "      <td>0.0</td>\n",
       "      <td>0.0</td>\n",
       "      <td>3.0</td>\n",
       "    </tr>\n",
       "    <tr>\n",
       "      <th>102</th>\n",
       "      <td>102</td>\n",
       "      <td>102</td>\n",
       "      <td>6371</td>\n",
       "      <td>SUBREDDIT: r/self\\nTITLE: i don't give a rat's...</td>\n",
       "      <td>SUBREDDIT: r/self\\nTITLE: i don't give a rat's...</td>\n",
       "      <td>I don't give a rat's ass about your \"rage\" l...</td>\n",
       "      <td>1.0</td>\n",
       "      <td>1.0</td>\n",
       "      <td>1.0</td>\n",
       "      <td>0.5</td>\n",
       "      <td>0.5</td>\n",
       "      <td>1.0</td>\n",
       "      <td>1.0</td>\n",
       "      <td>6.0</td>\n",
       "    </tr>\n",
       "    <tr>\n",
       "      <th>103</th>\n",
       "      <td>103</td>\n",
       "      <td>103</td>\n",
       "      <td>6527</td>\n",
       "      <td>SUBREDDIT: r/AskReddit\\nTITLE: I have the same...</td>\n",
       "      <td>SUBREDDIT: r/AskReddit\\nTITLE: I have the same...</td>\n",
       "      <td>I have a recurring nightmare where I have to...</td>\n",
       "      <td>1.0</td>\n",
       "      <td>1.0</td>\n",
       "      <td>1.0</td>\n",
       "      <td>0.5</td>\n",
       "      <td>1.0</td>\n",
       "      <td>2.0</td>\n",
       "      <td>1.0</td>\n",
       "      <td>7.5</td>\n",
       "    </tr>\n",
       "  </tbody>\n",
       "</table>\n",
       "<p>104 rows × 14 columns</p>\n",
       "</div>"
      ],
      "text/plain": [
       "     Unnamed: 0.1  Unnamed: 0  prompt_id  \\\n",
       "0               0           0        415   \n",
       "1               1           1        440   \n",
       "2               2           2        466   \n",
       "3               3           3        571   \n",
       "4               4           4        627   \n",
       "..            ...         ...        ...   \n",
       "99             99          99       6054   \n",
       "100           100         100       6310   \n",
       "101           101         101       6367   \n",
       "102           102         102       6371   \n",
       "103           103         103       6527   \n",
       "\n",
       "                                                  text  \\\n",
       "0    SUBREDDIT: r/relationship_advice\\nTITLE: My [M...   \n",
       "1    SUBREDDIT: r/AskReddit\\nTITLE: Reddit, how do ...   \n",
       "2    SUBREDDIT: r/relationships\\nTITLE: My siblings...   \n",
       "3    SUBREDDIT: r/dogs\\nTITLE: [Help] Older dog has...   \n",
       "4    SUBREDDIT: r/relationship_advice\\nTITLE: I [20...   \n",
       "..                                                 ...   \n",
       "99   SUBREDDIT: r/tifu\\nTITLE: TIFU by attempting t...   \n",
       "100  SUBREDDIT: r/relationships\\nTITLE: Me(21f) and...   \n",
       "101  SUBREDDIT: r/offmychest\\nTITLE: someone stole ...   \n",
       "102  SUBREDDIT: r/self\\nTITLE: i don't give a rat's...   \n",
       "103  SUBREDDIT: r/AskReddit\\nTITLE: I have the same...   \n",
       "\n",
       "                                               Outputs  \\\n",
       "0    SUBREDDIT: r/relationship_advice\\nTITLE: My [M...   \n",
       "1    SUBREDDIT: r/AskReddit\\nTITLE: Reddit, how do ...   \n",
       "2    SUBREDDIT: r/relationships\\nTITLE: My siblings...   \n",
       "3    SUBREDDIT: r/dogs\\nTITLE: [Help] Older dog has...   \n",
       "4    SUBREDDIT: r/relationship_advice\\nTITLE: I [20...   \n",
       "..                                                 ...   \n",
       "99   SUBREDDIT: r/tifu\\nTITLE: TIFU by attempting t...   \n",
       "100  SUBREDDIT: r/relationships\\nTITLE: Me(21f) and...   \n",
       "101  SUBREDDIT: r/offmychest\\nTITLE: someone stole ...   \n",
       "102  SUBREDDIT: r/self\\nTITLE: i don't give a rat's...   \n",
       "103  SUBREDDIT: r/AskReddit\\nTITLE: I have the same...   \n",
       "\n",
       "                                           summaryOnly  independence  context  \\\n",
       "0      I feel as though my girlfriend and I need to...           1.0      2.0   \n",
       "1      Teenagers wreck flowers, pour salt on cars, ...           1.0      1.0   \n",
       "2      I feel uncomfortable paying my siblings back...           1.0      1.0   \n",
       "3      Older dog has peripheral vestibular disease....           1.0      1.0   \n",
       "4      Girlfriend has been working all day and has ...           1.0      1.0   \n",
       "..                                                 ...           ...      ...   \n",
       "99     I tried to make a toaster oven out of my hou...           1.0      0.0   \n",
       "100    ex is buying condoms with me and getting mad...           0.0      1.0   \n",
       "101    I was robbed and my car was wrecked while I ...           1.0      0.5   \n",
       "102    I don't give a rat's ass about your \"rage\" l...           1.0      1.0   \n",
       "103    I have a recurring nightmare where I have to...           1.0      1.0   \n",
       "\n",
       "     accuracy  completeness  grammar  readability  brevity  final_score  \n",
       "0         1.0           1.0      1.0          2.0      1.0          9.0  \n",
       "1         2.0           1.0      1.0          2.0      1.0          9.0  \n",
       "2         1.0           1.0      1.0          1.0      1.0          7.0  \n",
       "3         2.0           1.0      1.0          2.0      1.0          9.0  \n",
       "4         1.0           1.0      1.0          2.0      1.0          8.0  \n",
       "..        ...           ...      ...          ...      ...          ...  \n",
       "99        0.0           0.0      1.0          1.0      0.0          3.0  \n",
       "100       0.0           0.0      0.0          0.5      0.0          1.5  \n",
       "101       0.5           0.0      1.0          0.0      0.0          3.0  \n",
       "102       1.0           0.5      0.5          1.0      1.0          6.0  \n",
       "103       1.0           0.5      1.0          2.0      1.0          7.5  \n",
       "\n",
       "[104 rows x 14 columns]"
      ]
     },
     "execution_count": 4,
     "metadata": {},
     "output_type": "execute_result"
    }
   ],
   "source": [
    "summaries_annotated"
   ]
  },
  {
   "cell_type": "code",
   "execution_count": 6,
   "metadata": {},
   "outputs": [],
   "source": [
    "# combine the two dataframes\n",
    "summaries = summaries_annotated\n",
    "summaries['predicted_reward'] = summaries_reward_model['predicted_reward']\n",
    "\n",
    "# clean and rename columns\n",
    "summaries = summaries.drop(columns=['Unnamed: 0.1'])\n",
    "summaries = summaries.rename(columns={'Unnamed: 0': 'id'})\n",
    "\n",
    "# columns with tags for the (mis)matches and linguistic criteria\n",
    "match_tags = ['match']*52 + ['mismatch']*52\n",
    "ling_crit = (['sent_len']*13 + ['sentim']*13 + ['lem']*13 + ['pos']*13) * 2\n",
    "\n",
    "# add columns\n",
    "summaries['match_mismatch'] = match_tags\n",
    "summaries['ling_criteria'] = ling_crit\n",
    "\n",
    "summaries.head()"
   ]
  },
  {
   "cell_type": "markdown",
   "metadata": {},
   "source": [
    "## Normalize our Individual Scores"
   ]
  },
  {
   "cell_type": "code",
   "execution_count": 7,
   "metadata": {},
   "outputs": [],
   "source": [
    "annotations_line = summaries[0:36]\n",
    "annotations_marc = summaries[36:72]\n",
    "annotations_meike = summaries[72:104]"
   ]
  },
  {
   "cell_type": "code",
   "execution_count": 8,
   "metadata": {},
   "outputs": [],
   "source": [
    "def normalize_z_score(sample, desired_mean, desired_std):\n",
    "    mean = np.mean(sample)\n",
    "    std = np.std(sample)\n",
    "    z_score = (sample - mean) / std\n",
    "    normalized_sample = desired_mean + z_score * desired_std\n",
    "    return normalized_sample"
   ]
  },
  {
   "cell_type": "code",
   "execution_count": 9,
   "metadata": {},
   "outputs": [],
   "source": [
    "# normalize our indiv judgments\n",
    "norm_line = normalize_z_score(annotations_line['final_score'].values, 5, 2)\n",
    "norm_marc = normalize_z_score(annotations_marc['final_score'].values, 5, 2)\n",
    "norm_meike = normalize_z_score(annotations_meike['final_score'].values, 5, 2)"
   ]
  },
  {
   "cell_type": "code",
   "execution_count": 10,
   "metadata": {},
   "outputs": [
    {
     "data": {
      "text/html": [
       "<div>\n",
       "<style scoped>\n",
       "    .dataframe tbody tr th:only-of-type {\n",
       "        vertical-align: middle;\n",
       "    }\n",
       "\n",
       "    .dataframe tbody tr th {\n",
       "        vertical-align: top;\n",
       "    }\n",
       "\n",
       "    .dataframe thead th {\n",
       "        text-align: right;\n",
       "    }\n",
       "</style>\n",
       "<table border=\"1\" class=\"dataframe\">\n",
       "  <thead>\n",
       "    <tr style=\"text-align: right;\">\n",
       "      <th></th>\n",
       "      <th>id</th>\n",
       "      <th>prompt_id</th>\n",
       "      <th>text</th>\n",
       "      <th>Outputs</th>\n",
       "      <th>summaryOnly</th>\n",
       "      <th>independence</th>\n",
       "      <th>context</th>\n",
       "      <th>accuracy</th>\n",
       "      <th>completeness</th>\n",
       "      <th>grammar</th>\n",
       "      <th>readability</th>\n",
       "      <th>brevity</th>\n",
       "      <th>final_score</th>\n",
       "      <th>predicted_reward</th>\n",
       "      <th>match_mismatch</th>\n",
       "      <th>ling_criteria</th>\n",
       "      <th>normed_score</th>\n",
       "    </tr>\n",
       "  </thead>\n",
       "  <tbody>\n",
       "    <tr>\n",
       "      <th>0</th>\n",
       "      <td>0</td>\n",
       "      <td>415</td>\n",
       "      <td>SUBREDDIT: r/relationship_advice\\nTITLE: My [M...</td>\n",
       "      <td>SUBREDDIT: r/relationship_advice\\nTITLE: My [M...</td>\n",
       "      <td>I feel as though my girlfriend and I need to...</td>\n",
       "      <td>1.0</td>\n",
       "      <td>2.0</td>\n",
       "      <td>1.0</td>\n",
       "      <td>1.0</td>\n",
       "      <td>1.0</td>\n",
       "      <td>2.0</td>\n",
       "      <td>1.0</td>\n",
       "      <td>9.0</td>\n",
       "      <td>3.135</td>\n",
       "      <td>match</td>\n",
       "      <td>sent_len</td>\n",
       "      <td>7.298097</td>\n",
       "    </tr>\n",
       "    <tr>\n",
       "      <th>1</th>\n",
       "      <td>1</td>\n",
       "      <td>440</td>\n",
       "      <td>SUBREDDIT: r/AskReddit\\nTITLE: Reddit, how do ...</td>\n",
       "      <td>SUBREDDIT: r/AskReddit\\nTITLE: Reddit, how do ...</td>\n",
       "      <td>Teenagers wreck flowers, pour salt on cars, ...</td>\n",
       "      <td>1.0</td>\n",
       "      <td>1.0</td>\n",
       "      <td>2.0</td>\n",
       "      <td>1.0</td>\n",
       "      <td>1.0</td>\n",
       "      <td>2.0</td>\n",
       "      <td>1.0</td>\n",
       "      <td>9.0</td>\n",
       "      <td>3.768</td>\n",
       "      <td>match</td>\n",
       "      <td>sent_len</td>\n",
       "      <td>7.298097</td>\n",
       "    </tr>\n",
       "    <tr>\n",
       "      <th>2</th>\n",
       "      <td>2</td>\n",
       "      <td>466</td>\n",
       "      <td>SUBREDDIT: r/relationships\\nTITLE: My siblings...</td>\n",
       "      <td>SUBREDDIT: r/relationships\\nTITLE: My siblings...</td>\n",
       "      <td>I feel uncomfortable paying my siblings back...</td>\n",
       "      <td>1.0</td>\n",
       "      <td>1.0</td>\n",
       "      <td>1.0</td>\n",
       "      <td>1.0</td>\n",
       "      <td>1.0</td>\n",
       "      <td>1.0</td>\n",
       "      <td>1.0</td>\n",
       "      <td>7.0</td>\n",
       "      <td>2.398</td>\n",
       "      <td>match</td>\n",
       "      <td>sent_len</td>\n",
       "      <td>4.116117</td>\n",
       "    </tr>\n",
       "    <tr>\n",
       "      <th>3</th>\n",
       "      <td>3</td>\n",
       "      <td>571</td>\n",
       "      <td>SUBREDDIT: r/dogs\\nTITLE: [Help] Older dog has...</td>\n",
       "      <td>SUBREDDIT: r/dogs\\nTITLE: [Help] Older dog has...</td>\n",
       "      <td>Older dog has peripheral vestibular disease....</td>\n",
       "      <td>1.0</td>\n",
       "      <td>1.0</td>\n",
       "      <td>2.0</td>\n",
       "      <td>1.0</td>\n",
       "      <td>1.0</td>\n",
       "      <td>2.0</td>\n",
       "      <td>1.0</td>\n",
       "      <td>9.0</td>\n",
       "      <td>4.273</td>\n",
       "      <td>match</td>\n",
       "      <td>sent_len</td>\n",
       "      <td>7.298097</td>\n",
       "    </tr>\n",
       "    <tr>\n",
       "      <th>4</th>\n",
       "      <td>4</td>\n",
       "      <td>627</td>\n",
       "      <td>SUBREDDIT: r/relationship_advice\\nTITLE: I [20...</td>\n",
       "      <td>SUBREDDIT: r/relationship_advice\\nTITLE: I [20...</td>\n",
       "      <td>Girlfriend has been working all day and has ...</td>\n",
       "      <td>1.0</td>\n",
       "      <td>1.0</td>\n",
       "      <td>1.0</td>\n",
       "      <td>1.0</td>\n",
       "      <td>1.0</td>\n",
       "      <td>2.0</td>\n",
       "      <td>1.0</td>\n",
       "      <td>8.0</td>\n",
       "      <td>3.953</td>\n",
       "      <td>match</td>\n",
       "      <td>sent_len</td>\n",
       "      <td>5.707107</td>\n",
       "    </tr>\n",
       "    <tr>\n",
       "      <th>...</th>\n",
       "      <td>...</td>\n",
       "      <td>...</td>\n",
       "      <td>...</td>\n",
       "      <td>...</td>\n",
       "      <td>...</td>\n",
       "      <td>...</td>\n",
       "      <td>...</td>\n",
       "      <td>...</td>\n",
       "      <td>...</td>\n",
       "      <td>...</td>\n",
       "      <td>...</td>\n",
       "      <td>...</td>\n",
       "      <td>...</td>\n",
       "      <td>...</td>\n",
       "      <td>...</td>\n",
       "      <td>...</td>\n",
       "      <td>...</td>\n",
       "    </tr>\n",
       "    <tr>\n",
       "      <th>99</th>\n",
       "      <td>99</td>\n",
       "      <td>6054</td>\n",
       "      <td>SUBREDDIT: r/tifu\\nTITLE: TIFU by attempting t...</td>\n",
       "      <td>SUBREDDIT: r/tifu\\nTITLE: TIFU by attempting t...</td>\n",
       "      <td>I tried to make a toaster oven out of my hou...</td>\n",
       "      <td>1.0</td>\n",
       "      <td>0.0</td>\n",
       "      <td>0.0</td>\n",
       "      <td>0.0</td>\n",
       "      <td>1.0</td>\n",
       "      <td>1.0</td>\n",
       "      <td>0.0</td>\n",
       "      <td>3.0</td>\n",
       "      <td>0.502</td>\n",
       "      <td>mismatch</td>\n",
       "      <td>pos</td>\n",
       "      <td>3.300691</td>\n",
       "    </tr>\n",
       "    <tr>\n",
       "      <th>100</th>\n",
       "      <td>100</td>\n",
       "      <td>6310</td>\n",
       "      <td>SUBREDDIT: r/relationships\\nTITLE: Me(21f) and...</td>\n",
       "      <td>SUBREDDIT: r/relationships\\nTITLE: Me(21f) and...</td>\n",
       "      <td>ex is buying condoms with me and getting mad...</td>\n",
       "      <td>0.0</td>\n",
       "      <td>1.0</td>\n",
       "      <td>0.0</td>\n",
       "      <td>0.0</td>\n",
       "      <td>0.0</td>\n",
       "      <td>0.5</td>\n",
       "      <td>0.0</td>\n",
       "      <td>1.5</td>\n",
       "      <td>1.526</td>\n",
       "      <td>mismatch</td>\n",
       "      <td>pos</td>\n",
       "      <td>2.109935</td>\n",
       "    </tr>\n",
       "    <tr>\n",
       "      <th>101</th>\n",
       "      <td>101</td>\n",
       "      <td>6367</td>\n",
       "      <td>SUBREDDIT: r/offmychest\\nTITLE: someone stole ...</td>\n",
       "      <td>SUBREDDIT: r/offmychest\\nTITLE: someone stole ...</td>\n",
       "      <td>I was robbed and my car was wrecked while I ...</td>\n",
       "      <td>1.0</td>\n",
       "      <td>0.5</td>\n",
       "      <td>0.5</td>\n",
       "      <td>0.0</td>\n",
       "      <td>1.0</td>\n",
       "      <td>0.0</td>\n",
       "      <td>0.0</td>\n",
       "      <td>3.0</td>\n",
       "      <td>1.565</td>\n",
       "      <td>mismatch</td>\n",
       "      <td>pos</td>\n",
       "      <td>3.300691</td>\n",
       "    </tr>\n",
       "    <tr>\n",
       "      <th>102</th>\n",
       "      <td>102</td>\n",
       "      <td>6371</td>\n",
       "      <td>SUBREDDIT: r/self\\nTITLE: i don't give a rat's...</td>\n",
       "      <td>SUBREDDIT: r/self\\nTITLE: i don't give a rat's...</td>\n",
       "      <td>I don't give a rat's ass about your \"rage\" l...</td>\n",
       "      <td>1.0</td>\n",
       "      <td>1.0</td>\n",
       "      <td>1.0</td>\n",
       "      <td>0.5</td>\n",
       "      <td>0.5</td>\n",
       "      <td>1.0</td>\n",
       "      <td>1.0</td>\n",
       "      <td>6.0</td>\n",
       "      <td>0.891</td>\n",
       "      <td>mismatch</td>\n",
       "      <td>pos</td>\n",
       "      <td>5.682204</td>\n",
       "    </tr>\n",
       "    <tr>\n",
       "      <th>103</th>\n",
       "      <td>103</td>\n",
       "      <td>6527</td>\n",
       "      <td>SUBREDDIT: r/AskReddit\\nTITLE: I have the same...</td>\n",
       "      <td>SUBREDDIT: r/AskReddit\\nTITLE: I have the same...</td>\n",
       "      <td>I have a recurring nightmare where I have to...</td>\n",
       "      <td>1.0</td>\n",
       "      <td>1.0</td>\n",
       "      <td>1.0</td>\n",
       "      <td>0.5</td>\n",
       "      <td>1.0</td>\n",
       "      <td>2.0</td>\n",
       "      <td>1.0</td>\n",
       "      <td>7.5</td>\n",
       "      <td>4.785</td>\n",
       "      <td>mismatch</td>\n",
       "      <td>pos</td>\n",
       "      <td>6.872961</td>\n",
       "    </tr>\n",
       "  </tbody>\n",
       "</table>\n",
       "<p>104 rows × 17 columns</p>\n",
       "</div>"
      ],
      "text/plain": [
       "      id  prompt_id                                               text  \\\n",
       "0      0        415  SUBREDDIT: r/relationship_advice\\nTITLE: My [M...   \n",
       "1      1        440  SUBREDDIT: r/AskReddit\\nTITLE: Reddit, how do ...   \n",
       "2      2        466  SUBREDDIT: r/relationships\\nTITLE: My siblings...   \n",
       "3      3        571  SUBREDDIT: r/dogs\\nTITLE: [Help] Older dog has...   \n",
       "4      4        627  SUBREDDIT: r/relationship_advice\\nTITLE: I [20...   \n",
       "..   ...        ...                                                ...   \n",
       "99    99       6054  SUBREDDIT: r/tifu\\nTITLE: TIFU by attempting t...   \n",
       "100  100       6310  SUBREDDIT: r/relationships\\nTITLE: Me(21f) and...   \n",
       "101  101       6367  SUBREDDIT: r/offmychest\\nTITLE: someone stole ...   \n",
       "102  102       6371  SUBREDDIT: r/self\\nTITLE: i don't give a rat's...   \n",
       "103  103       6527  SUBREDDIT: r/AskReddit\\nTITLE: I have the same...   \n",
       "\n",
       "                                               Outputs  \\\n",
       "0    SUBREDDIT: r/relationship_advice\\nTITLE: My [M...   \n",
       "1    SUBREDDIT: r/AskReddit\\nTITLE: Reddit, how do ...   \n",
       "2    SUBREDDIT: r/relationships\\nTITLE: My siblings...   \n",
       "3    SUBREDDIT: r/dogs\\nTITLE: [Help] Older dog has...   \n",
       "4    SUBREDDIT: r/relationship_advice\\nTITLE: I [20...   \n",
       "..                                                 ...   \n",
       "99   SUBREDDIT: r/tifu\\nTITLE: TIFU by attempting t...   \n",
       "100  SUBREDDIT: r/relationships\\nTITLE: Me(21f) and...   \n",
       "101  SUBREDDIT: r/offmychest\\nTITLE: someone stole ...   \n",
       "102  SUBREDDIT: r/self\\nTITLE: i don't give a rat's...   \n",
       "103  SUBREDDIT: r/AskReddit\\nTITLE: I have the same...   \n",
       "\n",
       "                                           summaryOnly  independence  context  \\\n",
       "0      I feel as though my girlfriend and I need to...           1.0      2.0   \n",
       "1      Teenagers wreck flowers, pour salt on cars, ...           1.0      1.0   \n",
       "2      I feel uncomfortable paying my siblings back...           1.0      1.0   \n",
       "3      Older dog has peripheral vestibular disease....           1.0      1.0   \n",
       "4      Girlfriend has been working all day and has ...           1.0      1.0   \n",
       "..                                                 ...           ...      ...   \n",
       "99     I tried to make a toaster oven out of my hou...           1.0      0.0   \n",
       "100    ex is buying condoms with me and getting mad...           0.0      1.0   \n",
       "101    I was robbed and my car was wrecked while I ...           1.0      0.5   \n",
       "102    I don't give a rat's ass about your \"rage\" l...           1.0      1.0   \n",
       "103    I have a recurring nightmare where I have to...           1.0      1.0   \n",
       "\n",
       "     accuracy  completeness  grammar  readability  brevity  final_score  \\\n",
       "0         1.0           1.0      1.0          2.0      1.0          9.0   \n",
       "1         2.0           1.0      1.0          2.0      1.0          9.0   \n",
       "2         1.0           1.0      1.0          1.0      1.0          7.0   \n",
       "3         2.0           1.0      1.0          2.0      1.0          9.0   \n",
       "4         1.0           1.0      1.0          2.0      1.0          8.0   \n",
       "..        ...           ...      ...          ...      ...          ...   \n",
       "99        0.0           0.0      1.0          1.0      0.0          3.0   \n",
       "100       0.0           0.0      0.0          0.5      0.0          1.5   \n",
       "101       0.5           0.0      1.0          0.0      0.0          3.0   \n",
       "102       1.0           0.5      0.5          1.0      1.0          6.0   \n",
       "103       1.0           0.5      1.0          2.0      1.0          7.5   \n",
       "\n",
       "     predicted_reward match_mismatch ling_criteria  normed_score  \n",
       "0               3.135          match      sent_len      7.298097  \n",
       "1               3.768          match      sent_len      7.298097  \n",
       "2               2.398          match      sent_len      4.116117  \n",
       "3               4.273          match      sent_len      7.298097  \n",
       "4               3.953          match      sent_len      5.707107  \n",
       "..                ...            ...           ...           ...  \n",
       "99              0.502       mismatch           pos      3.300691  \n",
       "100             1.526       mismatch           pos      2.109935  \n",
       "101             1.565       mismatch           pos      3.300691  \n",
       "102             0.891       mismatch           pos      5.682204  \n",
       "103             4.785       mismatch           pos      6.872961  \n",
       "\n",
       "[104 rows x 17 columns]"
      ]
     },
     "execution_count": 10,
     "metadata": {},
     "output_type": "execute_result"
    }
   ],
   "source": [
    "# append normed scores in 1 list\n",
    "normed_score = []\n",
    "for x in norm_line:\n",
    "    normed_score.append(x)\n",
    "for x in norm_marc:\n",
    "    normed_score.append(x)\n",
    "for x in norm_meike:\n",
    "    normed_score.append(x)\n",
    "\n",
    "# add column with normed scores into summary-df\n",
    "summaries['normed_score'] = normed_score\n",
    "summaries"
   ]
  },
  {
   "cell_type": "code",
   "execution_count": 11,
   "metadata": {},
   "outputs": [],
   "source": [
    "# normalize scores again by substracting mean\n",
    "pred_rew_normed = summaries['predicted_reward'].values - summaries['predicted_reward'].mean()\n",
    "summaries['pred_rew_normed'] = pred_rew_normed\n",
    "indiv_normed = summaries['normed_score'].values - summaries['normed_score'].mean()\n",
    "summaries['indiv_normed'] = indiv_normed"
   ]
  },
  {
   "cell_type": "code",
   "execution_count": 12,
   "metadata": {},
   "outputs": [
    {
     "data": {
      "text/plain": [
       "Ttest_1sampResult(statistic=-6.091276839885713e-15, pvalue=0.9999999999999951)"
      ]
     },
     "execution_count": 12,
     "metadata": {},
     "output_type": "execute_result"
    }
   ],
   "source": [
    "d = pred_rew_normed - indiv_normed\n",
    "ttest_1samp(d, popmean=0)\n",
    "# -> no sign difference between the two scoring methods -> now dive into further analysis"
   ]
  },
  {
   "cell_type": "code",
   "execution_count": 14,
   "metadata": {},
   "outputs": [],
   "source": [
    "# save it in csv\n",
    "#summaries.to_csv('text_summaries_with_all_scores.csv')"
   ]
  },
  {
   "cell_type": "markdown",
   "metadata": {},
   "source": [
    "## Comparison Mismatch & Match in Our Annotations"
   ]
  },
  {
   "cell_type": "code",
   "execution_count": 15,
   "metadata": {},
   "outputs": [],
   "source": [
    "# split into match and mismatch\n",
    "matches = summaries.loc[summaries.match_mismatch == 'match']\n",
    "mismatches = summaries.loc[summaries.match_mismatch == 'mismatch']"
   ]
  },
  {
   "cell_type": "code",
   "execution_count": 16,
   "metadata": {},
   "outputs": [],
   "source": [
    "# split into criteria\n",
    "matches_sentlen = summaries.loc[(summaries.match_mismatch == 'match') & (summaries.ling_criteria == 'sent_len')]\n",
    "matches_sentim = summaries.loc[(summaries.match_mismatch == 'match') & (summaries.ling_criteria == 'sentim')]\n",
    "matches_lem = summaries.loc[(summaries.match_mismatch == 'match') & (summaries.ling_criteria == 'lem')]\n",
    "matches_pos = summaries.loc[(summaries.match_mismatch == 'match') & (summaries.ling_criteria == 'pos')]\n",
    "\n",
    "mismatches_sentlen = summaries.loc[(summaries.match_mismatch == 'mismatch') & (summaries.ling_criteria == 'sent_len')]\n",
    "mismatches_sentim = summaries.loc[(summaries.match_mismatch == 'mismatch') & (summaries.ling_criteria == 'sentim')]\n",
    "mismatches_lem = summaries.loc[(summaries.match_mismatch == 'mismatch') & (summaries.ling_criteria == 'lem')]\n",
    "mismatches_pos = summaries.loc[(summaries.match_mismatch == 'mismatch') & (summaries.ling_criteria == 'pos')]"
   ]
  },
  {
   "cell_type": "code",
   "execution_count": 17,
   "metadata": {},
   "outputs": [
    {
     "data": {
      "text/plain": [
       "Ttest_1sampResult(statistic=0.8707442642229599, pvalue=0.3879741193468982)"
      ]
     },
     "execution_count": 17,
     "metadata": {},
     "output_type": "execute_result"
    }
   ],
   "source": [
    "# two sample ttest: is there significant diff between the annotated scores for matching and mismatching summaries? H0: there is no diff, H1: there is diff\n",
    "\n",
    "d = matches['indiv_normed'].values - mismatches['indiv_normed'].values\n",
    "ttest_1samp(d, popmean = 0)"
   ]
  },
  {
   "cell_type": "code",
   "execution_count": 18,
   "metadata": {},
   "outputs": [
    {
     "data": {
      "text/plain": [
       "Ttest_1sampResult(statistic=0.8707442642229599, pvalue=0.3879741193468982)"
      ]
     },
     "execution_count": 18,
     "metadata": {},
     "output_type": "execute_result"
    }
   ],
   "source": [
    "# two sample ttest: is there significant diff between the annotated scores for matching and mismatching summaries? H0: there is no diff, H1: there is diff\n",
    "\n",
    "d = matches['normed_score'].values - mismatches['normed_score'].values\n",
    "ttest_1samp(d, popmean = 0)"
   ]
  },
  {
   "cell_type": "code",
   "execution_count": 19,
   "metadata": {},
   "outputs": [],
   "source": [
    "arr_pos_match = matches.loc[matches['ling_criteria'] == 'pos', 'normed_score']\n",
    "arr_lem_match = matches.loc[matches['ling_criteria'] == 'lem', 'normed_score']\n",
    "arr_sentim_match = matches.loc[matches['ling_criteria'] == 'sentim', 'normed_score']\n",
    "arr_sent_len_match = matches.loc[matches['ling_criteria'] == 'sent_len', 'normed_score']\n",
    "\n",
    "arr_pos_mismatch = mismatches.loc[mismatches['ling_criteria'] == 'pos', 'normed_score']\n",
    "arr_lem_mismatch = mismatches.loc[mismatches['ling_criteria'] == 'lem', 'normed_score']\n",
    "arr_sentim_mismatch = mismatches.loc[mismatches['ling_criteria'] == 'sentim', 'normed_score']\n",
    "arr_sent_len_mismatch = mismatches.loc[mismatches['ling_criteria'] == 'sent_len', 'normed_score']"
   ]
  },
  {
   "cell_type": "code",
   "execution_count": 20,
   "metadata": {},
   "outputs": [
    {
     "data": {
      "text/plain": [
       "Text(0.5, 0, 'Categories')"
      ]
     },
     "execution_count": 20,
     "metadata": {},
     "output_type": "execute_result"
    },
    {
     "data": {
      "image/png": "[encoded data removed]",
      "text/plain": [
       "<Figure size 648x432 with 1 Axes>"
      ]
     },
     "metadata": {
      "needs_background": "light"
     },
     "output_type": "display_data"
    }
   ],
   "source": [
    "means_match = [arr_pos_match.mean(), arr_lem_match.mean(), arr_sentim_match.mean(), arr_sent_len_match.mean()]\n",
    "sds_match = [arr_pos_match.std(), arr_lem_match.std(), arr_sentim_match.std(), arr_sent_len_match.std()]\n",
    "means_mismatch = [arr_pos_mismatch.mean(), arr_lem_mismatch.mean(), arr_sentim_mismatch.mean(), arr_sent_len_mismatch.mean()]\n",
    "sds_mismatch = [arr_pos_mismatch.std(), arr_lem_mismatch.std(), arr_sentim_mismatch.std(), arr_sent_len_mismatch.std()]\n",
    "\n",
    "plt.figure(figsize = (9, 6))\n",
    "plt.bar(range(len(means_match)), means_match, yerr = sds_match, color = \"green\", zorder = 2.5)\n",
    "#plt.xticks(x,[\"POS\", \"Lemmata\", \"Sentiment\", \"Sentence Length\"])\n",
    "plt.bar(range(len(means_match),len(means_mismatch)+len(means_match)), means_mismatch, yerr = sds_mismatch, color = \"red\", zorder = 2.5)\n",
    "plt.xticks(range(0,len(means_mismatch)+len(means_match)),[\"POS\", \"Lemmata\", \"Sentiment\", \"Sent. Len.\", \"POS\", \"Lemmata\", \"Sentiment\", \"Sent. Len.\"])\n",
    "#plt.legend(['Match', 'Mismatch'])\n",
    "plt.ylim(0,10)\n",
    "plt.yticks(ticks=np.arange(0, 11, 1))\n",
    "plt.grid(axis = \"y\", linestyle = \"--\", zorder = 0)\n",
    "plt.title(\"Predicted Prompt Score per Category\")\n",
    "plt.ylabel(\"Mean Score\")\n",
    "plt.xlabel('Categories')"
   ]
  },
  {
   "cell_type": "code",
   "execution_count": 21,
   "metadata": {},
   "outputs": [
    {
     "data": {
      "text/plain": [
       "Text(0, 0.5, 'Mean Score')"
      ]
     },
     "execution_count": 21,
     "metadata": {},
     "output_type": "execute_result"
    },
    {
     "data": {
      "image/png": "[encoded data removed]",
      "text/plain": [
       "<Figure size 288x432 with 1 Axes>"
      ]
     },
     "metadata": {
      "needs_background": "light"
     },
     "output_type": "display_data"
    }
   ],
   "source": [
    "plt.figure(figsize = (4, 6))\n",
    "plt.grid(axis = \"y\", linestyle = \"--\", zorder = 0)\n",
    "plt.bar([\"Match\", \"Mismatch\"], [matches['normed_score'].mean(), mismatches['normed_score'].mean()], zorder = 2.5, yerr = [matches['normed_score'].std(),mismatches['normed_score'].std()], color = [\"green\", \"red\"])\n",
    "plt.ylim(0, 10)\n",
    "plt.title(\"Predicted Prompt Score\")\n",
    "plt.yticks(ticks=np.arange(0, 11, 1))\n",
    "plt.ylabel(\"Mean Score\")"
   ]
  },
  {
   "cell_type": "code",
   "execution_count": 22,
   "metadata": {},
   "outputs": [
    {
     "data": {
      "text/plain": [
       "Text(0.5, 0, 'Prompts')"
      ]
     },
     "execution_count": 22,
     "metadata": {},
     "output_type": "execute_result"
    },
    {
     "data": {
      "image/png": "[encoded data removed]",
      "text/plain": [
       "<Figure size 864x360 with 1 Axes>"
      ]
     },
     "metadata": {
      "needs_background": "light"
     },
     "output_type": "display_data"
    }
   ],
   "source": [
    "plt.figure(figsize = (12, 5))\n",
    "plt.bar(matches['id'], matches['indiv_normed'], color=\"green\", zorder=2.5)\n",
    "plt.bar(mismatches['id'], mismatches['indiv_normed'], color=\"red\", zorder=2.5)\n",
    "plt.legend(['Match', 'Mismatch'])\n",
    "plt.title(\"Normalized Prompt Score\")\n",
    "plt.yticks(ticks=np.arange(-5, 6, 1))\n",
    "plt.ylabel(\"Normalized Predicted Score\")\n",
    "plt.grid(axis = \"y\", linestyle = \"--\", zorder = 0)\n",
    "plt.grid(axis = \"x\", linestyle = \"--\", zorder = 0)\n",
    "plt.xticks(ticks=np.arange(0, 105, 5))\n",
    "plt.xlabel(\"Prompts\")"
   ]
  },
  {
   "cell_type": "markdown",
   "metadata": {},
   "source": [
    "## Comparison Mismatch & Match in Reward Model Scores"
   ]
  },
  {
   "cell_type": "code",
   "execution_count": 23,
   "metadata": {},
   "outputs": [
    {
     "data": {
      "text/plain": [
       "Ttest_1sampResult(statistic=0.6962163959652462, pvalue=0.4894542593971918)"
      ]
     },
     "execution_count": 23,
     "metadata": {},
     "output_type": "execute_result"
    }
   ],
   "source": [
    "# two sample ttest: is there significant diff between the annotated scores for matching and mismatching summaries? H0: there is no diff, H1: there is diff\n",
    "\n",
    "d = matches['predicted_reward'].values - mismatches['predicted_reward'].values\n",
    "ttest_1samp(d, popmean = 0)"
   ]
  },
  {
   "cell_type": "code",
   "execution_count": 24,
   "metadata": {},
   "outputs": [
    {
     "data": {
      "text/plain": [
       "Ttest_1sampResult(statistic=0.6962163959652462, pvalue=0.4894542593971918)"
      ]
     },
     "execution_count": 24,
     "metadata": {},
     "output_type": "execute_result"
    }
   ],
   "source": [
    "d = matches['pred_rew_normed'].values - mismatches['pred_rew_normed'].values\n",
    "ttest_1samp(d, popmean = 0)"
   ]
  },
  {
   "cell_type": "code",
   "execution_count": 25,
   "metadata": {},
   "outputs": [],
   "source": [
    "arr_pos_match_rew = matches.loc[matches['ling_criteria'] == 'pos', 'predicted_reward']\n",
    "arr_lem_match_rew = matches.loc[matches['ling_criteria'] == 'lem', 'predicted_reward']\n",
    "arr_sentim_match_rew = matches.loc[matches['ling_criteria'] == 'sentim', 'predicted_reward']\n",
    "arr_sent_len_match_rew = matches.loc[matches['ling_criteria'] == 'sent_len', 'predicted_reward']\n",
    "\n",
    "arr_pos_mismatch_rew = mismatches.loc[mismatches['ling_criteria'] == 'pos', 'predicted_reward']\n",
    "arr_lem_mismatch_rew = mismatches.loc[mismatches['ling_criteria'] == 'lem', 'predicted_reward']\n",
    "arr_sentim_mismatch_rew = mismatches.loc[mismatches['ling_criteria'] == 'sentim', 'predicted_reward']\n",
    "arr_sent_len_mismatch_rew = mismatches.loc[mismatches['ling_criteria'] == 'sent_len', 'predicted_reward']"
   ]
  },
  {
   "cell_type": "code",
   "execution_count": 26,
   "metadata": {},
   "outputs": [
    {
     "data": {
      "image/png": "[encoded data removed]",
      "text/plain": [
       "<Figure size 648x432 with 1 Axes>"
      ]
     },
     "metadata": {
      "needs_background": "light"
     },
     "output_type": "display_data"
    }
   ],
   "source": [
    "means_match = [arr_pos_match_rew.mean(), arr_lem_match_rew.mean(), arr_sentim_match_rew.mean(), arr_sent_len_match_rew.mean()]\n",
    "sds_match = [arr_pos_match_rew.std(), arr_lem_match_rew.std(), arr_sentim_match_rew.std(), arr_sent_len_match_rew.std()]\n",
    "means_mismatch = [arr_pos_mismatch_rew.mean(), arr_lem_mismatch_rew.mean(), arr_sentim_mismatch_rew.mean(), arr_sent_len_mismatch_rew.mean()]\n",
    "sds_mismatch = [arr_pos_mismatch_rew.std(), arr_lem_mismatch_rew.std(), arr_sentim_mismatch_rew.std(), arr_sent_len_mismatch_rew.std()]\n",
    "\n",
    "plt.figure(figsize = (9, 6))\n",
    "plt.bar(range(len(means_match)), means_match, yerr = sds_match, color = \"green\", zorder = 2.5)\n",
    "#plt.xticks(x,[\"POS\", \"Lemmata\", \"Sentiment\", \"Sentence Length\"])\n",
    "plt.bar(range(len(means_match),len(means_mismatch)+len(means_match)), means_mismatch, yerr = sds_mismatch, color = \"red\", zorder = 2.5)\n",
    "plt.xticks(range(0,len(means_mismatch)+len(means_match)),[\"POS\", \"Lemmata\", \"Sentiment\", \"Sent. Len.\", \"POS\", \"Lemmata\", \"Sentiment\", \"Sent. Len.\"])\n",
    "plt.legend(['Match', 'Mismatch'])\n",
    "plt.ylim(0,10)\n",
    "plt.yticks(ticks=np.arange(0, 11, 1))\n",
    "plt.grid(axis = \"y\", linestyle = \"--\", zorder = 0)\n",
    "plt.title(\"Reward Model Prompt Score per Category\")\n",
    "#plt.ylabel(\"Mean Score\")\n",
    "plt.xlabel('Categories')\n",
    "plt.gca().yaxis.set_ticks_position('right')"
   ]
  },
  {
   "cell_type": "code",
   "execution_count": 27,
   "metadata": {},
   "outputs": [
    {
     "data": {
      "image/png": "[encoded data removed]",
      "text/plain": [
       "<Figure size 288x432 with 1 Axes>"
      ]
     },
     "metadata": {
      "needs_background": "light"
     },
     "output_type": "display_data"
    }
   ],
   "source": [
    "# # add std\n",
    "plt.figure(figsize = (4, 6))\n",
    "plt.grid(axis = \"y\", linestyle = \"--\", zorder = 0)\n",
    "plt.bar([\"Match\", \"Mismatch\"], [matches['predicted_reward'].mean(), mismatches['predicted_reward'].mean()], zorder = 2.5, yerr = [matches['predicted_reward'].std(),mismatches['predicted_reward'].std()], color = [\"green\", \"red\"])\n",
    "plt.ylim(0, 10)\n",
    "plt.yticks(ticks=np.arange(0, 11, 1))\n",
    "plt.title(\"Predicted Reward Model Score\")\n",
    "plt.gca().yaxis.set_ticks_position('right')\n",
    "#plt.ylabel(\"Mean Score\")"
   ]
  },
  {
   "cell_type": "code",
   "execution_count": 28,
   "metadata": {},
   "outputs": [
    {
     "data": {
      "text/plain": [
       "Text(0.5, 0, 'Prompts')"
      ]
     },
     "execution_count": 28,
     "metadata": {},
     "output_type": "execute_result"
    },
    {
     "data": {
      "image/png": "[encoded data removed]",
      "text/plain": [
       "<Figure size 864x360 with 1 Axes>"
      ]
     },
     "metadata": {
      "needs_background": "light"
     },
     "output_type": "display_data"
    }
   ],
   "source": [
    "plt.figure(figsize = (12, 5))\n",
    "plt.bar(matches['id'], matches['pred_rew_normed'], color=\"green\", zorder=2.5)\n",
    "plt.bar(mismatches['id'], mismatches['pred_rew_normed'], color=\"red\", zorder=2.5)\n",
    "#plt.legend(['Match', 'Mismatch'])\n",
    "#plt.title(\"Normalized Predicted Prompt Score\")\n",
    "plt.yticks(ticks=np.arange(-5, 6, 1))\n",
    "plt.ylabel(\"Normalized Reward Model Score\")\n",
    "plt.grid(axis = \"y\", linestyle = \"--\", zorder = 0)\n",
    "plt.grid(axis = \"x\", linestyle = \"--\", zorder = 0)\n",
    "plt.xticks(ticks=np.arange(0, 105, 5))\n",
    "plt.xlabel(\"Prompts\")"
   ]
  },
  {
   "cell_type": "markdown",
   "metadata": {},
   "source": [
    "## Comparison of (Mis)Matching Criteria in Our Annotations"
   ]
  },
  {
   "cell_type": "code",
   "execution_count": 29,
   "metadata": {},
   "outputs": [
    {
     "name": "stderr",
     "output_type": "stream",
     "text": [
      "C:\\Users\\line\\AppData\\Local\\Temp\\ipykernel_9696\\1247626710.py:3: FutureWarning: Dropping of nuisance columns in DataFrame reductions (with 'numeric_only=None') is deprecated; in a future version this will raise TypeError.  Select only valid columns before calling the reduction.\n",
      "  plt.bar(x-0.3, matches_sentlen.mean()[2:10], width = 0.20, zorder=2.5)\n",
      "C:\\Users\\line\\AppData\\Local\\Temp\\ipykernel_9696\\1247626710.py:4: FutureWarning: Dropping of nuisance columns in DataFrame reductions (with 'numeric_only=None') is deprecated; in a future version this will raise TypeError.  Select only valid columns before calling the reduction.\n",
      "  plt.bar(x-0.1, matches_sentim.mean()[2:10], width = 0.20, zorder=2.5)\n",
      "C:\\Users\\line\\AppData\\Local\\Temp\\ipykernel_9696\\1247626710.py:5: FutureWarning: Dropping of nuisance columns in DataFrame reductions (with 'numeric_only=None') is deprecated; in a future version this will raise TypeError.  Select only valid columns before calling the reduction.\n",
      "  plt.bar(x+0.1, matches_lem.mean()[2:10], width = 0.20, zorder=2.5)\n",
      "C:\\Users\\line\\AppData\\Local\\Temp\\ipykernel_9696\\1247626710.py:6: FutureWarning: Dropping of nuisance columns in DataFrame reductions (with 'numeric_only=None') is deprecated; in a future version this will raise TypeError.  Select only valid columns before calling the reduction.\n",
      "  plt.bar(x+0.3, matches_pos.mean()[2:10], width = 0.20, zorder=2.5)\n"
     ]
    },
    {
     "data": {
      "text/plain": [
       "Text(0.5, 1.0, 'Matching')"
      ]
     },
     "execution_count": 29,
     "metadata": {},
     "output_type": "execute_result"
    },
    {
     "data": {
      "image/png": "[encoded data removed]",
      "text/plain": [
       "<Figure size 432x432 with 1 Axes>"
      ]
     },
     "metadata": {
      "needs_background": "light"
     },
     "output_type": "display_data"
    }
   ],
   "source": [
    "x = np.arange(8) \n",
    "plt.figure(figsize = (6, 6))\n",
    "plt.bar(x-0.3, matches_sentlen.mean()[2:10], width = 0.20, zorder=2.5)\n",
    "plt.bar(x-0.1, matches_sentim.mean()[2:10], width = 0.20, zorder=2.5)\n",
    "plt.bar(x+0.1, matches_lem.mean()[2:10], width = 0.20, zorder=2.5)\n",
    "plt.bar(x+0.3, matches_pos.mean()[2:10], width = 0.20, zorder=2.5)\n",
    "plt.grid(axis = \"y\", linestyle = \"--\", zorder = 0)\n",
    "plt.yticks(ticks=np.arange(0, 11, 1))\n",
    "plt.xticks(x, ['Independence', 'Context', 'Accuracy', 'Completeness', 'Grammar', 'Readability', 'Brevity', 'Final Score'], rotation=45)\n",
    "plt.xlabel('Criteria for Individual Judgment of Summaries')\n",
    "plt.ylabel('Mean Score')\n",
    "plt.legend([\"Sentence Length\", \"Sentiment Score\", \"Lemmata\", \"POS Tags\"], title = '(Mis)Matching Criteria') \n",
    "plt.title('Matching')"
   ]
  },
  {
   "cell_type": "code",
   "execution_count": 30,
   "metadata": {},
   "outputs": [
    {
     "name": "stderr",
     "output_type": "stream",
     "text": [
      "C:\\Users\\line\\AppData\\Local\\Temp\\ipykernel_9696\\3867461371.py:3: FutureWarning: Dropping of nuisance columns in DataFrame reductions (with 'numeric_only=None') is deprecated; in a future version this will raise TypeError.  Select only valid columns before calling the reduction.\n",
      "  plt.bar(x-0.3, mismatches_sentlen.mean()[2:10], width = 0.20, zorder=2.5)\n",
      "C:\\Users\\line\\AppData\\Local\\Temp\\ipykernel_9696\\3867461371.py:4: FutureWarning: Dropping of nuisance columns in DataFrame reductions (with 'numeric_only=None') is deprecated; in a future version this will raise TypeError.  Select only valid columns before calling the reduction.\n",
      "  plt.bar(x-0.1, mismatches_sentim.mean()[2:10], width = 0.20, zorder=2.5)\n",
      "C:\\Users\\line\\AppData\\Local\\Temp\\ipykernel_9696\\3867461371.py:5: FutureWarning: Dropping of nuisance columns in DataFrame reductions (with 'numeric_only=None') is deprecated; in a future version this will raise TypeError.  Select only valid columns before calling the reduction.\n",
      "  plt.bar(x+0.1, mismatches_lem.mean()[2:10], width = 0.20, zorder=2.5)\n",
      "C:\\Users\\line\\AppData\\Local\\Temp\\ipykernel_9696\\3867461371.py:6: FutureWarning: Dropping of nuisance columns in DataFrame reductions (with 'numeric_only=None') is deprecated; in a future version this will raise TypeError.  Select only valid columns before calling the reduction.\n",
      "  plt.bar(x+0.3, mismatches_pos.mean()[2:10], width = 0.20, zorder=2.5)\n"
     ]
    },
    {
     "data": {
      "image/png": "[encoded data removed]",
      "text/plain": [
       "<Figure size 432x432 with 1 Axes>"
      ]
     },
     "metadata": {
      "needs_background": "light"
     },
     "output_type": "display_data"
    }
   ],
   "source": [
    "x = np.arange(8) \n",
    "plt.figure(figsize = (6, 6))\n",
    "plt.bar(x-0.3, mismatches_sentlen.mean()[2:10], width = 0.20, zorder=2.5)\n",
    "plt.bar(x-0.1, mismatches_sentim.mean()[2:10], width = 0.20, zorder=2.5)\n",
    "plt.bar(x+0.1, mismatches_lem.mean()[2:10], width = 0.20, zorder=2.5)\n",
    "plt.bar(x+0.3, mismatches_pos.mean()[2:10], width = 0.20, zorder=2.5)\n",
    "plt.xticks(x, ['Independence', 'Context', 'Accuracy', 'Completeness', 'Grammar', 'Readability', 'Brevity', 'Final Score'], rotation=45)\n",
    "plt.xlabel('Criteria for Individual Judgment of Summaries')\n",
    "#plt.legend([\"Sentence Length\", \"Sentiment Score\", \"Lemmata\", \"POS Tags\"], title = '(Mis)Matching Criteria') \n",
    "plt.grid(axis = \"y\", linestyle = \"--\", zorder = 0)\n",
    "plt.yticks(ticks=np.arange(0, 11, 1))\n",
    "plt.title('Mismatching')\n",
    "plt.gca().yaxis.set_ticks_position('right')"
   ]
  }
 ],
 "metadata": {
  "kernelspec": {
   "display_name": "myenv1",
   "language": "python",
   "name": "python3"
  },
  "language_info": {
   "codemirror_mode": {
    "name": "ipython",
    "version": 3
   },
   "file_extension": ".py",
   "mimetype": "text/x-python",
   "name": "python",
   "nbconvert_exporter": "python",
   "pygments_lexer": "ipython3",
   "version": "3.10.4"
  }
 },
 "nbformat": 4,
 "nbformat_minor": 2
}
